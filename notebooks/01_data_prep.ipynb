{
 "cells": [
  {
   "cell_type": "markdown",
   "metadata": {},
   "source": [
    "Objectives:\n",
    "\n",
    "1. Back data tagging from trainset annotations into BIO tags\n",
    "\n",
    "Contents:\n",
    "1. Data Input"
   ]
  },
  {
   "cell_type": "code",
   "execution_count": 1,
   "metadata": {},
   "outputs": [],
   "source": [
    "#imports \n",
    "\n",
    "import os, sys, pandas as pd, numpy as np"
   ]
  },
  {
   "cell_type": "code",
   "execution_count": 12,
   "metadata": {},
   "outputs": [
    {
     "name": "stdout",
     "output_type": "stream",
     "text": [
      "/media/narahari/4C640A79640A65D4/Personal/hackathons/zycus_ner/notebooks\n"
     ]
    }
   ],
   "source": [
    "print(os.getcwd())\n",
    "\n",
    "sys.path.insert(0, \"/media/narahari/4C640A79640A65D4/Personal/hackathons/zycus_ner/\")"
   ]
  },
  {
   "cell_type": "code",
   "execution_count": 17,
   "metadata": {
    "scrolled": true
   },
   "outputs": [
    {
     "name": "stdout",
     "output_type": "stream",
     "text": [
      "\u001b[31mERROR: Exception:\n",
      "Traceback (most recent call last):\n",
      "  File \"/home/narahari/anaconda3/envs/bert_ner/lib/python3.7/site-packages/pip/_internal/cli/base_command.py\", line 186, in _main\n",
      "    status = self.run(options, args)\n",
      "  File \"/home/narahari/anaconda3/envs/bert_ner/lib/python3.7/site-packages/pip/_internal/commands/install.py\", line 279, in run\n",
      "    session = self.get_default_session(options)\n",
      "  File \"/home/narahari/anaconda3/envs/bert_ner/lib/python3.7/site-packages/pip/_internal/cli/req_command.py\", line 74, in get_default_session\n",
      "    self._session = self.enter_context(self._build_session(options))\n",
      "  File \"/home/narahari/anaconda3/envs/bert_ner/lib/python3.7/site-packages/pip/_internal/cli/req_command.py\", line 91, in _build_session\n",
      "    index_urls=self._get_index_urls(options),\n",
      "  File \"/home/narahari/anaconda3/envs/bert_ner/lib/python3.7/site-packages/pip/_internal/network/session.py\", line 241, in __init__\n",
      "    self.headers[\"User-Agent\"] = user_agent()\n",
      "  File \"/home/narahari/anaconda3/envs/bert_ner/lib/python3.7/site-packages/pip/_internal/network/session.py\", line 132, in user_agent\n",
      "    zip([\"name\", \"version\", \"id\"], distro.linux_distribution()),\n",
      "  File \"/home/narahari/anaconda3/envs/bert_ner/lib/python3.7/site-packages/pip/_vendor/distro.py\", line 122, in linux_distribution\n",
      "    return _distro.linux_distribution(full_distribution_name)\n",
      "  File \"/home/narahari/anaconda3/envs/bert_ner/lib/python3.7/site-packages/pip/_vendor/distro.py\", line 677, in linux_distribution\n",
      "    self.version(),\n",
      "  File \"/home/narahari/anaconda3/envs/bert_ner/lib/python3.7/site-packages/pip/_vendor/distro.py\", line 737, in version\n",
      "    self.lsb_release_attr('release'),\n",
      "  File \"/home/narahari/anaconda3/envs/bert_ner/lib/python3.7/site-packages/pip/_vendor/distro.py\", line 899, in lsb_release_attr\n",
      "    return self._lsb_release_info.get(attribute, '')\n",
      "  File \"/home/narahari/anaconda3/envs/bert_ner/lib/python3.7/site-packages/pip/_vendor/distro.py\", line 552, in __get__\n",
      "    ret = obj.__dict__[self._fname] = self._f(obj)\n",
      "  File \"/home/narahari/anaconda3/envs/bert_ner/lib/python3.7/site-packages/pip/_vendor/distro.py\", line 1012, in _lsb_release_info\n",
      "    stdout = subprocess.check_output(cmd, stderr=devnull)\n",
      "  File \"/home/narahari/anaconda3/envs/bert_ner/lib/python3.7/subprocess.py\", line 411, in check_output\n",
      "    **kwargs).stdout\n",
      "  File \"/home/narahari/anaconda3/envs/bert_ner/lib/python3.7/subprocess.py\", line 512, in run\n",
      "    output=stdout, stderr=stderr)\n",
      "subprocess.CalledProcessError: Command '('lsb_release', '-a')' died with <Signals.SIGBUS: 7>.\u001b[0m\n",
      "Traceback (most recent call last):\n",
      "  File \"/home/narahari/anaconda3/envs/bert_ner/bin/pip\", line 11, in <module>\n",
      "    sys.exit(main())\n",
      "  File \"/home/narahari/anaconda3/envs/bert_ner/lib/python3.7/site-packages/pip/_internal/cli/main.py\", line 75, in main\n",
      "    return command.main(cmd_args)\n",
      "  File \"/home/narahari/anaconda3/envs/bert_ner/lib/python3.7/site-packages/pip/_internal/cli/base_command.py\", line 105, in main\n",
      "    return self._main(args)\n",
      "  File \"/home/narahari/anaconda3/envs/bert_ner/lib/python3.7/site-packages/pip/_internal/cli/base_command.py\", line 224, in _main\n",
      "    self.handle_pip_version_check(options)\n",
      "  File \"/home/narahari/anaconda3/envs/bert_ner/lib/python3.7/site-packages/pip/_internal/cli/req_command.py\", line 146, in handle_pip_version_check\n",
      "    timeout=min(5, options.timeout)\n",
      "  File \"/home/narahari/anaconda3/envs/bert_ner/lib/python3.7/site-packages/pip/_internal/cli/req_command.py\", line 91, in _build_session\n",
      "    index_urls=self._get_index_urls(options),\n",
      "  File \"/home/narahari/anaconda3/envs/bert_ner/lib/python3.7/site-packages/pip/_internal/network/session.py\", line 241, in __init__\n",
      "    self.headers[\"User-Agent\"] = user_agent()\n",
      "  File \"/home/narahari/anaconda3/envs/bert_ner/lib/python3.7/site-packages/pip/_internal/network/session.py\", line 132, in user_agent\n",
      "    zip([\"name\", \"version\", \"id\"], distro.linux_distribution()),\n",
      "  File \"/home/narahari/anaconda3/envs/bert_ner/lib/python3.7/site-packages/pip/_vendor/distro.py\", line 122, in linux_distribution\n",
      "    return _distro.linux_distribution(full_distribution_name)\n",
      "  File \"/home/narahari/anaconda3/envs/bert_ner/lib/python3.7/site-packages/pip/_vendor/distro.py\", line 677, in linux_distribution\n",
      "    self.version(),\n",
      "  File \"/home/narahari/anaconda3/envs/bert_ner/lib/python3.7/site-packages/pip/_vendor/distro.py\", line 737, in version\n",
      "    self.lsb_release_attr('release'),\n",
      "  File \"/home/narahari/anaconda3/envs/bert_ner/lib/python3.7/site-packages/pip/_vendor/distro.py\", line 899, in lsb_release_attr\n",
      "    return self._lsb_release_info.get(attribute, '')\n",
      "  File \"/home/narahari/anaconda3/envs/bert_ner/lib/python3.7/site-packages/pip/_vendor/distro.py\", line 552, in __get__\n",
      "    ret = obj.__dict__[self._fname] = self._f(obj)\n",
      "  File \"/home/narahari/anaconda3/envs/bert_ner/lib/python3.7/site-packages/pip/_vendor/distro.py\", line 1012, in _lsb_release_info\n",
      "    stdout = subprocess.check_output(cmd, stderr=devnull)\n",
      "  File \"/home/narahari/anaconda3/envs/bert_ner/lib/python3.7/subprocess.py\", line 411, in check_output\n",
      "    **kwargs).stdout\n",
      "  File \"/home/narahari/anaconda3/envs/bert_ner/lib/python3.7/subprocess.py\", line 512, in run\n",
      "    output=stdout, stderr=stderr)\n",
      "subprocess.CalledProcessError: Command '('lsb_release', '-a')' died with <Signals.SIGBUS: 7>.\n"
     ]
    }
   ],
   "source": [
    "# Configuration\n",
    "\n",
    "DATA_FOLDER = os.path.join(\"..\", \"data\")\n",
    "\n",
    "train_folder = os.path.join(DATA_FOLDER, \"01_raw\",\"Training_data\")\n",
    "\n",
    "!pip install python-docx"
   ]
  },
  {
   "cell_type": "code",
   "execution_count": null,
   "metadata": {},
   "outputs": [],
   "source": [
    "import docx\n",
    "\n",
    "def getText(filename):\n",
    "    doc = docx.Document(filename)\n",
    "    fullText = []\n",
    "    for para in doc.paragraphs:\n",
    "        fullText.append(para.text)\n",
    "    return '\\n'.join(fullText)"
   ]
  }
 ],
 "metadata": {
  "kernelspec": {
   "display_name": "Python 3",
   "language": "python",
   "name": "python3"
  },
  "language_info": {
   "codemirror_mode": {
    "name": "ipython",
    "version": 3
   },
   "file_extension": ".py",
   "mimetype": "text/x-python",
   "name": "python",
   "nbconvert_exporter": "python",
   "pygments_lexer": "ipython3",
   "version": "3.7.7"
  }
 },
 "nbformat": 4,
 "nbformat_minor": 4
}
