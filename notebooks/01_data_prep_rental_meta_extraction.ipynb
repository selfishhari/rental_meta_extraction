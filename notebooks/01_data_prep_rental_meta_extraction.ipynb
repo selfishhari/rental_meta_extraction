{
  "nbformat": 4,
  "nbformat_minor": 0,
  "metadata": {
    "colab": {
      "name": "01_data_prep_rental_meta_extraction.ipynb",
      "provenance": [],
      "collapsed_sections": []
    },
    "kernelspec": {
      "name": "python3",
      "display_name": "Python 3"
    }
  },
  "cells": [
    {
      "cell_type": "markdown",
      "metadata": {
        "id": "qvqnWMnnm25Z",
        "colab_type": "text"
      },
      "source": [
        "**Objectives:**\n",
        "\n",
        "\n",
        "1.   Create BIO tags for available Party One and Party Two data(rolling window of paragraphs)\n",
        "2.   Preprocessing\n",
        "\n",
        "**Contents:**\n",
        "\n",
        "\n",
        "1.   Data Read\n",
        "2.   Creating of rolling window based text paragraphs(Merge 3 paragraphs in arolling window fashion)\n",
        "3. Clean the annotations available for Party One and Party Two\n",
        "4. Create BIO style of NER annotations for each of the rolling window paragraph\n",
        "\n",
        "\n",
        "\n"
      ]
    },
    {
      "cell_type": "code",
      "metadata": {
        "id": "XPj0HI_ZiaBH",
        "colab_type": "code",
        "outputId": "80336247-c980-42df-c381-bac867d3d51e",
        "colab": {
          "base_uri": "https://localhost:8080/",
          "height": 86
        }
      },
      "source": [
        "import os\n",
        "os.getcwd()\n",
        "from google.colab import drive\n",
        "import os\n",
        "drive.mount('/content/gdrive')\n",
        "\n",
        "#IF YOU ARE CLONING FOR THE FIRST TIME in colab please uncomment all the below 5 lines of code. \n",
        "#Put git user name and password in appropriate places\n",
        "\n",
        "root_path = 'gdrive/My Drive/Colab Notebooks/' #change dir to folder where you want to clone\n",
        "os.chdir('/content/' + root_path)\n",
        "#!git clone https://github.com/selfishhari/rental_meta_extraction.git\n",
        "!git branch -r | grep -v '\\->' | while read remote; do git branch --track \"${remote#origin/}\" \"$remote\"; done\n",
        "\n",
        "\n",
        "\n",
        "root_path = 'rental_meta_extraction/' #change dir to your project folder's src\n",
        "\n",
        "os.chdir(root_path)\n",
        "os.getcwd()"
      ],
      "execution_count": 1,
      "outputs": [
        {
          "output_type": "stream",
          "text": [
            "Drive already mounted at /content/gdrive; to attempt to forcibly remount, call drive.mount(\"/content/gdrive\", force_remount=True).\n",
            "fatal: not a git repository (or any parent up to mount point /content)\n",
            "Stopping at filesystem boundary (GIT_DISCOVERY_ACROSS_FILESYSTEM not set).\n"
          ],
          "name": "stdout"
        },
        {
          "output_type": "execute_result",
          "data": {
            "text/plain": [
              "'/content/gdrive/My Drive/Colab Notebooks/rental_meta_extraction'"
            ]
          },
          "metadata": {
            "tags": []
          },
          "execution_count": 1
        }
      ]
    },
    {
      "cell_type": "code",
      "metadata": {
        "id": "5GTB-dn7ieL9",
        "colab_type": "code",
        "outputId": "b24b813e-823b-420c-d024-8d07f606d050",
        "colab": {
          "base_uri": "https://localhost:8080/",
          "height": 52
        }
      },
      "source": [
        "!pip install python-docx"
      ],
      "execution_count": 2,
      "outputs": [
        {
          "output_type": "stream",
          "text": [
            "Requirement already satisfied: python-docx in /usr/local/lib/python3.6/dist-packages (0.8.10)\n",
            "Requirement already satisfied: lxml>=2.3.2 in /usr/local/lib/python3.6/dist-packages (from python-docx) (4.2.6)\n"
          ],
          "name": "stdout"
        }
      ]
    },
    {
      "cell_type": "code",
      "metadata": {
        "id": "DvmXsk4BjgtO",
        "colab_type": "code",
        "colab": {}
      },
      "source": [
        "import docx, pandas as pd, sys, os, numpy as np"
      ],
      "execution_count": 0,
      "outputs": []
    },
    {
      "cell_type": "code",
      "metadata": {
        "id": "AFJQ-EeDkIfc",
        "colab_type": "code",
        "outputId": "46135c09-7adf-41b1-ee2f-d2c3ddbc6b0c",
        "colab": {
          "base_uri": "https://localhost:8080/",
          "height": 293
        }
      },
      "source": [
        "train_annot = pd.read_csv(\"data/01_raw/TrainingTestSet.csv\")\n",
        "\n",
        "train_annot.sample(5)"
      ],
      "execution_count": 4,
      "outputs": [
        {
          "output_type": "execute_result",
          "data": {
            "text/html": [
              "<div>\n",
              "<style scoped>\n",
              "    .dataframe tbody tr th:only-of-type {\n",
              "        vertical-align: middle;\n",
              "    }\n",
              "\n",
              "    .dataframe tbody tr th {\n",
              "        vertical-align: top;\n",
              "    }\n",
              "\n",
              "    .dataframe thead th {\n",
              "        text-align: right;\n",
              "    }\n",
              "</style>\n",
              "<table border=\"1\" class=\"dataframe\">\n",
              "  <thead>\n",
              "    <tr style=\"text-align: right;\">\n",
              "      <th></th>\n",
              "      <th>File Name</th>\n",
              "      <th>Aggrement Value</th>\n",
              "      <th>Aggrement Start Date</th>\n",
              "      <th>Aggrement End Date</th>\n",
              "      <th>Renewal Notice (Days)</th>\n",
              "      <th>Party One</th>\n",
              "      <th>Party Two</th>\n",
              "    </tr>\n",
              "  </thead>\n",
              "  <tbody>\n",
              "    <tr>\n",
              "      <th>1</th>\n",
              "      <td>Bangalore Agreement_New</td>\n",
              "      <td>NaN</td>\n",
              "      <td>01.05.2015</td>\n",
              "      <td>28.02.2018</td>\n",
              "      <td>15.0</td>\n",
              "      <td>MR AMAR ARUN WAGH</td>\n",
              "      <td>MR SANDEEP DUTTA</td>\n",
              "    </tr>\n",
              "    <tr>\n",
              "      <th>6</th>\n",
              "      <td>RentalAgreement_KKR</td>\n",
              "      <td>8300.0</td>\n",
              "      <td>01.05.2014</td>\n",
              "      <td>31.03.2015</td>\n",
              "      <td>30.0</td>\n",
              "      <td>Amitabh Reddy</td>\n",
              "      <td>SrikanthPai</td>\n",
              "    </tr>\n",
              "    <tr>\n",
              "      <th>53</th>\n",
              "      <td>343492954-Rent-Agreement-3E</td>\n",
              "      <td>11500.0</td>\n",
              "      <td>01.05.2016</td>\n",
              "      <td>31.03.2015</td>\n",
              "      <td>30.0</td>\n",
              "      <td>ANAND RAJ</td>\n",
              "      <td>BEENA PURATHAYIL MADHAVAN</td>\n",
              "    </tr>\n",
              "    <tr>\n",
              "      <th>22</th>\n",
              "      <td>63057680-Rental-Agreement</td>\n",
              "      <td>450.0</td>\n",
              "      <td>17.08.2010</td>\n",
              "      <td>22.08.2010</td>\n",
              "      <td>NaN</td>\n",
              "      <td>Lagoon Landings LLC</td>\n",
              "      <td>John Public</td>\n",
              "    </tr>\n",
              "    <tr>\n",
              "      <th>48</th>\n",
              "      <td>288024755-Rental-Agreement-1</td>\n",
              "      <td>5000.0</td>\n",
              "      <td>21.04.2014</td>\n",
              "      <td>20.09.2014</td>\n",
              "      <td>NaN</td>\n",
              "      <td>S T Nagaveni</td>\n",
              "      <td>H N Madhu</td>\n",
              "    </tr>\n",
              "  </tbody>\n",
              "</table>\n",
              "</div>"
            ],
            "text/plain": [
              "                       File Name  ...                   Party Two\n",
              "1        Bangalore Agreement_New  ...            MR SANDEEP DUTTA\n",
              "6            RentalAgreement_KKR  ...                 SrikanthPai\n",
              "53   343492954-Rent-Agreement-3E  ...   BEENA PURATHAYIL MADHAVAN\n",
              "22     63057680-Rental-Agreement  ...                 John Public\n",
              "48  288024755-Rental-Agreement-1  ...                   H N Madhu\n",
              "\n",
              "[5 rows x 7 columns]"
            ]
          },
          "metadata": {
            "tags": []
          },
          "execution_count": 4
        }
      ]
    },
    {
      "cell_type": "code",
      "metadata": {
        "id": "-GbP9lDIkhim",
        "colab_type": "code",
        "colab": {}
      },
      "source": [
        "train_docx_folder = \"data/01_raw/Training_data\""
      ],
      "execution_count": 0,
      "outputs": []
    },
    {
      "cell_type": "code",
      "metadata": {
        "id": "ti0dyJxdjthR",
        "colab_type": "code",
        "outputId": "34926140-4d6c-48b9-b96b-fb4d0105890f",
        "colab": {
          "base_uri": "https://localhost:8080/",
          "height": 34
        }
      },
      "source": [
        "train_fnames = os.listdir(train_docx_folder)\n",
        "\n",
        "def clean_train_names(x):\n",
        "\n",
        "  x = x.replace(\".docx\", \"\")\n",
        "\n",
        "  x = x.replace(\".pdf\", \"\")\n",
        "\n",
        "  return x\n",
        "\n",
        "clean_tfnames = [clean_train_names(x) for x in train_fnames]\n",
        "\n",
        "train_annot_available = train_annot.loc[train_annot[\"File Name\"].isin(clean_tfnames), :]\n",
        "\n",
        "print(\"Only {} documents are available for training. This is very less\".format(train_annot_available.shape[0]))"
      ],
      "execution_count": 6,
      "outputs": [
        {
          "output_type": "stream",
          "text": [
            "Only 43 documents are available for training. This is very less\n"
          ],
          "name": "stdout"
        }
      ]
    },
    {
      "cell_type": "markdown",
      "metadata": {
        "id": "sAUdVrpHsWk9",
        "colab_type": "text"
      },
      "source": [
        "**Rolling window of paragraphs:**\n",
        "\n",
        "I have basically merged 3 paras in a sliding window fashion. The reason for this is that I noticed, the context arounf party one and party two were  spread across the adjacent paragraphs"
      ]
    },
    {
      "cell_type": "code",
      "metadata": {
        "id": "GEKeZRC_nFx3",
        "colab_type": "code",
        "colab": {}
      },
      "source": [
        "def read_docx_contents(filename):\n",
        "  \"\"\"\n",
        "  This function reads the docx file and creates a rolling window based paragraphs  \n",
        "  \"\"\"\n",
        "  \n",
        "  doc = docx.Document(os.path.join(train_docx_folder, filename))\n",
        "\n",
        "  all_paragraphs = []\n",
        "\n",
        "  para_windows = []\n",
        "\n",
        "  for para in doc.paragraphs:\n",
        "\n",
        "    text = para.text.strip()\n",
        "\n",
        "    if text == \"\":\n",
        "      continue;\n",
        "\n",
        "    all_paragraphs.append(text)\n",
        "\n",
        "    if len(all_paragraphs) < 2:\n",
        "\n",
        "      para_windows.append(text)\n",
        "\n",
        "    else:\n",
        "\n",
        "      para_windows.append(\" \".join(all_paragraphs[-3:]))\n",
        "\n",
        "  filename = filename.replace(\".docx\", \" \")\n",
        "\n",
        "  filename = filename.replace(\".pdf\", \" \")\n",
        "\n",
        "  df = pd.DataFrame({\"fname\":[filename]*len(all_paragraphs), \"paras\":all_paragraphs, \"para_windows\":para_windows})\n",
        "\n",
        "  df[\"para_windows_proc\"] = df[\"para_windows\"].str.lower()\n",
        "\n",
        "  return df"
      ],
      "execution_count": 0,
      "outputs": []
    },
    {
      "cell_type": "markdown",
      "metadata": {
        "id": "7nFLLWUEt6eB",
        "colab_type": "text"
      },
      "source": [
        "**BIO annotation:**\n",
        "\n",
        "I take the raw text(rolling window) and provided annotation for Party1/Party2 and create BIOs tags for each word\n",
        "\n",
        "Following Tags are created\n",
        "\n",
        "1.   B-P1 -> Party1 Beginning\n",
        "2.   I-P1 -> Party1 Continuation\n",
        "3.   B-P2 -> Party2 Beginning\n",
        "4.   I-P2 -> Party2 Continuation\n",
        "5.   O -> All other non annotated words"
      ]
    },
    {
      "cell_type": "code",
      "metadata": {
        "id": "vPrwv-XSuDrY",
        "colab_type": "code",
        "colab": {}
      },
      "source": [
        "def annotate(row, text):\n",
        "\n",
        "  \"\"\"\n",
        "  Takes annotations and text, creates BIOs tags for each text\n",
        "  \"\"\"\n",
        "\n",
        "  text = text.replace(\".\", \" \")\n",
        "\n",
        "  text = text.replace(\",\", \" \")\n",
        "\n",
        "  p1 = row[\"Party One\"]\n",
        "\n",
        "  \n",
        "  \n",
        "  if pd.isnull(p1.values[0]):\n",
        "    #print(p1)\n",
        "    p1 = \"nullvaluehere\"\n",
        "\n",
        "  else:\n",
        "    p1 = p1.str.lower().str.strip().values[0]\n",
        "\n",
        "  \n",
        "\n",
        "  p1 = p1.replace(\".\", \" \")\n",
        "\n",
        "  p1_list = p1.split()\n",
        "\n",
        "  annotations = []\n",
        "  \n",
        "  prev_label = \"O\"\n",
        "\n",
        "  for word in text.split():\n",
        "\n",
        "    word_label = \"O\"\n",
        "\n",
        "    counter = 0\n",
        "\n",
        "    done_flag = False\n",
        "\n",
        "    for term in p1_list:\n",
        "\n",
        "      if (len(term) < 2) | (term == \"mr\"):\n",
        "          continue\n",
        "\n",
        "      if word == term:\n",
        "        #print(word, word_label, p1)\n",
        "        if counter == 0:\n",
        "\n",
        "          word_label = \"B-P1\"\n",
        "\n",
        "          done_flag = True\n",
        "\n",
        "        elif prev_label == \"B-P1\":\n",
        "\n",
        "          word_label = \"I-P1\"\n",
        "\n",
        "          done_flag = True\n",
        "\n",
        "      counter += 1\n",
        "      \n",
        "\n",
        "    if done_flag:\n",
        "      #print(word, word_label)\n",
        "\n",
        "      prev_label = word_label\n",
        "\n",
        "      annotations.append(word_label)\n",
        "      continue\n",
        "\n",
        "    p2 = row[\"Party Two\"]\n",
        "\n",
        "    if pd.isnull(p2.values[0]):\n",
        "      #print(p2)\n",
        "      p2 = \"nullvaluehere\"\n",
        "\n",
        "    else:\n",
        "      p2 = p2.str.lower().str.strip().values[0]\n",
        "    \n",
        "    \n",
        "\n",
        "    p2 = p2.replace(\".\", \" \")\n",
        "  \n",
        "    p2_list = p2.split()\n",
        "\n",
        "    counter = 0\n",
        "\n",
        "    for term in p2_list:\n",
        "      if len(term) < 2  | (term == \"mr\"):\n",
        "        continue\n",
        "      if word == term:\n",
        "\n",
        "        if counter == 0:\n",
        "\n",
        "          word_label = \"B-P2\"\n",
        "\n",
        "          #print(word, word_label)\n",
        "\n",
        "        elif prev_label == \"B-P2\":\n",
        "\n",
        "          word_label = \"I-P2\"\n",
        "\n",
        "          #print(word, word_label)\n",
        "\n",
        "      counter += 1\n",
        "\n",
        "    \n",
        "    prev_label = word_label\n",
        "    annotations.append(word_label)\n",
        "\n",
        "  return annotations"
      ],
      "execution_count": 0,
      "outputs": []
    },
    {
      "cell_type": "code",
      "metadata": {
        "id": "0dXbsoCwJNuh",
        "colab_type": "code",
        "colab": {}
      },
      "source": [
        "def annotate_all_docs(train_fnames, train_annot_available):\n",
        "\n",
        "  \"\"\"\n",
        "  Run annotations for all files\n",
        "  \"\"\"\n",
        "\n",
        "  all_doc_df = pd.DataFrame(columns = ['fname', 'paras', 'para_windows', 'para_windows_proc', 'annotations'])\n",
        "\n",
        "  train_annot_available = train_annot_available.reset_index(drop=True)\n",
        "\n",
        "  \n",
        "\n",
        "  for rownum in range(len(clean_tfnames)):\n",
        "\n",
        "    row = train_annot_available.loc[train_annot_available[\"File Name\"] == clean_tfnames[rownum], :]\n",
        "\n",
        "    df = read_docx_contents(os.path.join(train_fnames[rownum]))\n",
        "\n",
        "    df[\"annotations\"] = df[\"para_windows_proc\"].apply(lambda x: annotate(row, x))\n",
        "\n",
        "    #print(df.head())\n",
        "\n",
        "    all_doc_df = pd.concat([all_doc_df, df])\n",
        "\n",
        "  return all_doc_df\n",
        "    "
      ],
      "execution_count": 0,
      "outputs": []
    },
    {
      "cell_type": "code",
      "metadata": {
        "id": "pU1nPTbwLwCU",
        "colab_type": "code",
        "outputId": "b0ed3046-8841-4f59-d97a-809763bf6934",
        "colab": {
          "base_uri": "https://localhost:8080/",
          "height": 121
        }
      },
      "source": [
        "annotated_df = annotate_all_docs(train_fnames, train_annot_available)\n",
        "\n",
        "annotated_df[\"annot_count\"] = annotated_df[\"annotations\"].apply(lambda x: len(set(x)))\n",
        "\n",
        "annotated_df[\"annot_count\"].value_counts()"
      ],
      "execution_count": 12,
      "outputs": [
        {
          "output_type": "execute_result",
          "data": {
            "text/plain": [
              "1    1235\n",
              "3     140\n",
              "2     110\n",
              "4      34\n",
              "5      19\n",
              "Name: annot_count, dtype: int64"
            ]
          },
          "metadata": {
            "tags": []
          },
          "execution_count": 12
        }
      ]
    },
    {
      "cell_type": "code",
      "metadata": {
        "id": "dV_uWAUPTXiD",
        "colab_type": "code",
        "outputId": "ce013bc3-b3fb-4f0d-cd55-db117ffdc402",
        "colab": {
          "base_uri": "https://localhost:8080/",
          "height": 432
        }
      },
      "source": [
        "annotated_df.sample(5)"
      ],
      "execution_count": 18,
      "outputs": [
        {
          "output_type": "execute_result",
          "data": {
            "text/html": [
              "<div>\n",
              "<style scoped>\n",
              "    .dataframe tbody tr th:only-of-type {\n",
              "        vertical-align: middle;\n",
              "    }\n",
              "\n",
              "    .dataframe tbody tr th {\n",
              "        vertical-align: top;\n",
              "    }\n",
              "\n",
              "    .dataframe thead th {\n",
              "        text-align: right;\n",
              "    }\n",
              "</style>\n",
              "<table border=\"1\" class=\"dataframe\">\n",
              "  <thead>\n",
              "    <tr style=\"text-align: right;\">\n",
              "      <th></th>\n",
              "      <th>fname</th>\n",
              "      <th>paras</th>\n",
              "      <th>para_windows</th>\n",
              "      <th>para_windows_proc</th>\n",
              "      <th>annotations</th>\n",
              "      <th>annot_count</th>\n",
              "    </tr>\n",
              "  </thead>\n",
              "  <tbody>\n",
              "    <tr>\n",
              "      <th>13</th>\n",
              "      <td>251798216-Rental-Agreement-Format1</td>\n",
              "      <td>CROSS,VINAYAKA,LAYOUT,CHINNAPANNAHLLI.MARATHAH...</td>\n",
              "      <td>7. Tenant NAME and Address: VIVEK CHANDRA MALL...</td>\n",
              "      <td>7. tenant name and address: vivek chandra mall...</td>\n",
              "      <td>[O, O, O, O, O, B-P2, I-P2, O, O, O, O, O, O, ...</td>\n",
              "      <td>3</td>\n",
              "    </tr>\n",
              "    <tr>\n",
              "      <th>59</th>\n",
              "      <td>294331674-Rental-Agreement</td>\n",
              "      <td>if the tenant breaks one of the agreement’s term;</td>\n",
              "      <td>HOW TO END A CONTINUING AGREEMENT * A fixed te...</td>\n",
              "      <td>how to end a continuing agreement * a fixed te...</td>\n",
              "      <td>[O, O, O, O, O, O, O, O, O, O, O, O, O, O, O, ...</td>\n",
              "      <td>1</td>\n",
              "    </tr>\n",
              "    <tr>\n",
              "      <th>23</th>\n",
              "      <td>95421373-Agreement</td>\n",
              "      <td>PARKING: The TENANT is entitled to park 1 cars...</td>\n",
              "      <td>The following keys handed over to the TENANT o...</td>\n",
              "      <td>the following keys handed over to the tenant o...</td>\n",
              "      <td>[O, O, O, O, O, O, O, O, O, O, O, O, O, O, O, ...</td>\n",
              "      <td>1</td>\n",
              "    </tr>\n",
              "    <tr>\n",
              "      <th>28</th>\n",
              "      <td>392810415-RENT-AGREEMENT</td>\n",
              "      <td>That the Municipal Corporation holding Tax and...</td>\n",
              "      <td>That the LESSEE herein shall at its own cost k...</td>\n",
              "      <td>that the lessee herein shall at its own cost k...</td>\n",
              "      <td>[O, O, O, O, O, O, O, O, O, O, O, O, O, O, O, ...</td>\n",
              "      <td>1</td>\n",
              "    </tr>\n",
              "    <tr>\n",
              "      <th>1</th>\n",
              "      <td>251798216-Rental-Agreement-Format1</td>\n",
              "      <td>For rental agreement request take only the det...</td>\n",
              "      <td>© “Lesconcierges Help Desk” © For rental agree...</td>\n",
              "      <td>© “lesconcierges help desk” © for rental agree...</td>\n",
              "      <td>[O, O, O, O, O, O, O, O, O, O, O, O, O, O]</td>\n",
              "      <td>1</td>\n",
              "    </tr>\n",
              "  </tbody>\n",
              "</table>\n",
              "</div>"
            ],
            "text/plain": [
              "                                   fname  ... annot_count\n",
              "13  251798216-Rental-Agreement-Format1    ...           3\n",
              "59          294331674-Rental-Agreement    ...           1\n",
              "23                  95421373-Agreement    ...           1\n",
              "28            392810415-RENT-AGREEMENT    ...           1\n",
              "1   251798216-Rental-Agreement-Format1    ...           1\n",
              "\n",
              "[5 rows x 6 columns]"
            ]
          },
          "metadata": {
            "tags": []
          },
          "execution_count": 18
        }
      ]
    },
    {
      "cell_type": "code",
      "metadata": {
        "id": "4K9bCMgBTrYo",
        "colab_type": "code",
        "outputId": "86c47f51-0eb0-4544-a3c4-1fa038bf3517",
        "colab": {
          "base_uri": "https://localhost:8080/",
          "height": 52
        }
      },
      "source": [
        "!pwd\n",
        "\n",
        "!mkdir data/02_processed/"
      ],
      "execution_count": 19,
      "outputs": [
        {
          "output_type": "stream",
          "text": [
            "/content/gdrive/My Drive/Colab Notebooks/rental_meta_extraction\n",
            "mkdir: cannot create directory ‘data/02_processed/’: File exists\n"
          ],
          "name": "stdout"
        }
      ]
    },
    {
      "cell_type": "code",
      "metadata": {
        "id": "JyF06necTb4e",
        "colab_type": "code",
        "colab": {}
      },
      "source": [
        "annotated_df.to_csv(\"data/02_processed/annotated_df_v1.csv\", index=False)"
      ],
      "execution_count": 0,
      "outputs": []
    },
    {
      "cell_type": "code",
      "metadata": {
        "id": "H20Ywi5FT0zm",
        "colab_type": "code",
        "outputId": "d888f976-00c6-471e-fce9-4cf0f1056cf9",
        "colab": {
          "base_uri": "https://localhost:8080/",
          "height": 173
        }
      },
      "source": [
        "!git status\n",
        "\n",
        "!git add data/02_processed/annotated_df_v1.csv"
      ],
      "execution_count": 0,
      "outputs": [
        {
          "output_type": "stream",
          "text": [
            "On branch master\n",
            "Your branch is up to date with 'origin/master'.\n",
            "\n",
            "Untracked files:\n",
            "  (use \"git add <file>...\" to include in what will be committed)\n",
            "\n",
            "\t\u001b[31mdata/02_processed/\u001b[m\n",
            "\n",
            "nothing added to commit but untracked files present (use \"git add\" to track)\n"
          ],
          "name": "stdout"
        }
      ]
    },
    {
      "cell_type": "code",
      "metadata": {
        "id": "Ij2L56YFT9Vt",
        "colab_type": "code",
        "outputId": "c9231da8-d12e-48d7-85e6-15dd2b77468b",
        "colab": {
          "base_uri": "https://localhost:8080/",
          "height": 208
        }
      },
      "source": [
        "!git status\n",
        "\n",
        "!git config --local user.email \"narahari.bm@protonmail.com\"\n",
        "!git config --local user.name \"Narahari B M\"\n",
        "\n",
        "!git commit -m \"added annotated df for party1 and party2\""
      ],
      "execution_count": 0,
      "outputs": [
        {
          "output_type": "stream",
          "text": [
            "On branch master\n",
            "Your branch is up to date with 'origin/master'.\n",
            "\n",
            "Changes to be committed:\n",
            "  (use \"git reset HEAD <file>...\" to unstage)\n",
            "\n",
            "\t\u001b[32mnew file:   data/02_processed/annotated_df_v1.csv\u001b[m\n",
            "\n",
            "[master e411e5b] added annotated df for party1 and party2\n",
            " 1 file changed, 1588 insertions(+)\n",
            " create mode 100644 data/02_processed/annotated_df_v1.csv\n"
          ],
          "name": "stdout"
        }
      ]
    },
    {
      "cell_type": "code",
      "metadata": {
        "id": "_p30oZP-Uot3",
        "colab_type": "code",
        "outputId": "cb702ada-5b07-4422-965a-80a2dd8ee9ca",
        "colab": {
          "base_uri": "https://localhost:8080/",
          "height": 139
        }
      },
      "source": [
        "!git push origin master"
      ],
      "execution_count": 0,
      "outputs": [
        {
          "output_type": "stream",
          "text": [
            "Counting objects: 5, done.\n",
            "Delta compression using up to 2 threads.\n",
            "Compressing objects:  25% (1/4)   \rCompressing objects:  50% (2/4)   \rCompressing objects:  75% (3/4)   \rCompressing objects: 100% (4/4)   \rCompressing objects: 100% (4/4), done.\n",
            "Writing objects:  20% (1/5)   \rWriting objects:  40% (2/5)   \rWriting objects:  60% (3/5)   \rWriting objects:  80% (4/5)   \rWriting objects: 100% (5/5)   \rWriting objects: 100% (5/5), 145.91 KiB | 3.10 MiB/s, done.\n",
            "Total 5 (delta 0), reused 0 (delta 0)\n",
            "To https://github.com/selfishhari/rental_meta_extraction.git\n",
            "   b04992f..e411e5b  master -> master\n"
          ],
          "name": "stdout"
        }
      ]
    },
    {
      "cell_type": "code",
      "metadata": {
        "id": "0bBwbHAwU5tD",
        "colab_type": "code",
        "colab": {}
      },
      "source": [
        "annotated_df.to_pickle(\"data/02_processed/annotated_df_v1.pickle\")"
      ],
      "execution_count": 0,
      "outputs": []
    },
    {
      "cell_type": "markdown",
      "metadata": {
        "id": "gP5V8Azcxfuz",
        "colab_type": "text"
      },
      "source": [
        "**Validation Dataset**"
      ]
    },
    {
      "cell_type": "code",
      "metadata": {
        "id": "BJEN2Wlmy12W",
        "colab_type": "code",
        "colab": {}
      },
      "source": [
        "def read_docx_contents_valid(filename):\n",
        "  \"\"\"\n",
        "  This function reads the docx file and creates a rolling window based paragraphs  \n",
        "  \"\"\"\n",
        "  \n",
        "  doc = docx.Document(os.path.join(valid_docx_folder, filename))\n",
        "\n",
        "  all_paragraphs = []\n",
        "\n",
        "  para_windows = []\n",
        "\n",
        "  for para in doc.paragraphs:\n",
        "\n",
        "    text = para.text.strip()\n",
        "\n",
        "    if text == \"\":\n",
        "      continue;\n",
        "\n",
        "    all_paragraphs.append(text)\n",
        "\n",
        "    if len(all_paragraphs) < 2:\n",
        "\n",
        "      para_windows.append(text)\n",
        "\n",
        "    else:\n",
        "\n",
        "      para_windows.append(\" \".join(all_paragraphs[-3:]))\n",
        "\n",
        "  filename = filename.replace(\".docx\", \" \")\n",
        "\n",
        "  filename = filename.replace(\".pdf\", \" \")\n",
        "\n",
        "  df = pd.DataFrame({\"fname\":[filename]*len(all_paragraphs), \"paras\":all_paragraphs, \"para_windows\":para_windows})\n",
        "\n",
        "  df[\"para_windows_proc\"] = df[\"para_windows\"].str.lower()\n",
        "\n",
        "  return df\n",
        "\n",
        "def annotate_all_docs_valid(train_fnames, train_annot_available):\n",
        "\n",
        "  \"\"\"\n",
        "  Run annotations for all files\n",
        "  \"\"\"\n",
        "\n",
        "  all_doc_df = pd.DataFrame(columns = ['fname', 'paras', 'para_windows', 'para_windows_proc', 'annotations'])\n",
        "\n",
        "  train_annot_available = train_annot_available.reset_index(drop=True)  \n",
        "\n",
        "  for rownum in range(len(clean_vfnames)):\n",
        "\n",
        "    row = train_annot_available.loc[train_annot_available[\"File Name\"] == clean_vfnames[rownum], :]\n",
        "\n",
        "    df = read_docx_contents_valid(os.path.join(train_fnames[rownum]))\n",
        "\n",
        "    df[\"annotations\"] = df[\"para_windows_proc\"].apply(lambda x: annotate(row, x))\n",
        "\n",
        "    #print(df.head())\n",
        "\n",
        "    all_doc_df = pd.concat([all_doc_df, df])\n",
        "\n",
        "  return all_doc_df\n",
        "    "
      ],
      "execution_count": 0,
      "outputs": []
    },
    {
      "cell_type": "code",
      "metadata": {
        "id": "tJ8x65OYxjFi",
        "colab_type": "code",
        "colab": {
          "base_uri": "https://localhost:8080/",
          "height": 104
        },
        "outputId": "cd8f4409-2419-4274-9fc8-20d3be284331"
      },
      "source": [
        "valid_annot = pd.read_csv(\"data/01_raw/ValidationSet.csv\")\n",
        "\n",
        "valid_annot.sample(5)\n",
        "\n",
        "valid_docx_folder = \"data/01_raw/Validation_Data\"\n",
        "\n",
        "valid_fnames = os.listdir(valid_docx_folder)\n",
        "\n",
        "clean_vfnames = [clean_train_names(x) for x in valid_fnames]\n",
        "\n",
        "valid_annot_available = valid_annot.loc[valid_annot[\"File Name\"].isin(clean_vfnames), :]\n",
        "\n",
        "annotated_df_valid = annotate_all_docs_valid(valid_fnames, valid_annot_available)\n",
        "\n",
        "annotated_df_valid[\"annot_count\"] = annotated_df_valid[\"annotations\"].apply(lambda x: len(set(x)))\n",
        "\n",
        "annotated_df_valid[\"annot_count\"].value_counts()"
      ],
      "execution_count": 31,
      "outputs": [
        {
          "output_type": "execute_result",
          "data": {
            "text/plain": [
              "1    198\n",
              "2     26\n",
              "3     25\n",
              "4      3\n",
              "Name: annot_count, dtype: int64"
            ]
          },
          "metadata": {
            "tags": []
          },
          "execution_count": 31
        }
      ]
    },
    {
      "cell_type": "code",
      "metadata": {
        "id": "Lx1mFyxLzPz2",
        "colab_type": "code",
        "colab": {}
      },
      "source": [
        "annotated_df_valid.to_pickle(\"data/02_processed/annotated_df_valid.pickle\")"
      ],
      "execution_count": 0,
      "outputs": []
    },
    {
      "cell_type": "code",
      "metadata": {
        "id": "ku1WORBz5VQU",
        "colab_type": "code",
        "colab": {
          "base_uri": "https://localhost:8080/",
          "height": 382
        },
        "outputId": "0790d2ea-cfa4-4b92-bf46-51be09fa1a7b"
      },
      "source": [
        "!git status\n",
        "\n",
        "!git add data/*/*.pickle\n",
        "\n",
        "!git status\n"
      ],
      "execution_count": 36,
      "outputs": [
        {
          "output_type": "stream",
          "text": [
            "On branch master\n",
            "Your branch is ahead of 'origin/master' by 1 commit.\n",
            "  (use \"git push\" to publish your local commits)\n",
            "\n",
            "Untracked files:\n",
            "  (use \"git add <file>...\" to include in what will be committed)\n",
            "\n",
            "\t\u001b[31mdata/02_processed/annotated_df_v1.pickle\u001b[m\n",
            "\t\u001b[31mdata/02_processed/annotated_df_valid.pickle\u001b[m\n",
            "\n",
            "nothing added to commit but untracked files present (use \"git add\" to track)\n",
            "On branch master\n",
            "Your branch is ahead of 'origin/master' by 1 commit.\n",
            "  (use \"git push\" to publish your local commits)\n",
            "\n",
            "Changes to be committed:\n",
            "  (use \"git reset HEAD <file>...\" to unstage)\n",
            "\n",
            "\t\u001b[32mnew file:   data/02_processed/annotated_df_v1.pickle\u001b[m\n",
            "\t\u001b[32mnew file:   data/02_processed/annotated_df_valid.pickle\u001b[m\n",
            "\n"
          ],
          "name": "stdout"
        }
      ]
    },
    {
      "cell_type": "code",
      "metadata": {
        "id": "ruOf-qWl0Txi",
        "colab_type": "code",
        "colab": {
          "base_uri": "https://localhost:8080/",
          "height": 104
        },
        "outputId": "03eb046b-bff8-4549-9718-5d1f15674a5b"
      },
      "source": [
        "!git config --local user.email \"narahari.bm@protonmail.com\"\n",
        "!git config --local user.name \"Narahari B M\"\n",
        "\n",
        "!git commit -m \"added annotated df for validation sets\""
      ],
      "execution_count": 37,
      "outputs": [
        {
          "output_type": "stream",
          "text": [
            "[master 0c0ceac] added annotated df for validation sets\n",
            " 2 files changed, 0 insertions(+), 0 deletions(-)\n",
            " create mode 100644 data/02_processed/annotated_df_v1.pickle\n",
            " create mode 100644 data/02_processed/annotated_df_valid.pickle\n",
            "fatal: could not read Username for 'https://github.com': No such device or address\n"
          ],
          "name": "stdout"
        }
      ]
    },
    {
      "cell_type": "code",
      "metadata": {
        "id": "tPTbOaCp5mCd",
        "colab_type": "code",
        "colab": {
          "base_uri": "https://localhost:8080/",
          "height": 139
        },
        "outputId": "80ec271b-9e5f-4719-abd8-629b3411e72c"
      },
      "source": [
        "!git push origin master"
      ],
      "execution_count": 38,
      "outputs": [
        {
          "output_type": "stream",
          "text": [
            "Counting objects: 6, done.\n",
            "Delta compression using up to 2 threads.\n",
            "Compressing objects:  16% (1/6)   \rCompressing objects:  33% (2/6)   \rCompressing objects:  50% (3/6)   \rCompressing objects:  66% (4/6)   \rCompressing objects:  83% (5/6)   \rCompressing objects: 100% (6/6)   \rCompressing objects: 100% (6/6), done.\n",
            "Writing objects:  16% (1/6)   \rWriting objects:  33% (2/6)   \rWriting objects:  50% (3/6)   \rWriting objects:  66% (4/6)   \rWriting objects:  83% (5/6)   \rWriting objects: 100% (6/6)   \rWriting objects: 100% (6/6), 293.03 KiB | 3.49 MiB/s, done.\n",
            "Total 6 (delta 0), reused 0 (delta 0)\n",
            "To https://github.com/selfishhari/rental_meta_extraction.git\n",
            "   e411e5b..0c0ceac  master -> master\n"
          ],
          "name": "stdout"
        }
      ]
    }
  ]
}